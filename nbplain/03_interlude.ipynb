{
 "cells": [
  {
   "cell_type": "markdown",
   "metadata": {},
   "source": [
    "# Interlude: List like structures in Python"
   ]
  },
  {
   "cell_type": "markdown",
   "metadata": {},
   "source": [
    "## Overview:\n",
    "- **Teaching:** 5 min\n",
    "- **Exercises:** 5 min\n",
    "\n",
    "**Questions**\n",
    "* What did the parentheses `(`, `)` indicate in the shape of arrays?\n",
    "* What other types of object can I use in Python?\n",
    "\n",
    "**Objectives**\n",
    "* Understand the difference between a `list` and a `tuple`.\n",
    "* Understand the difference between a `list` and a `dict`.\n",
    "* `Enumerate` provides a compact way of referencing both index and value when looping through `lists`.\n",
    "* Know that list comprehension is just another way of creating a list."
   ]
  },
  {
   "cell_type": "markdown",
   "metadata": {},
   "source": [
    "In the course \"Introduction to Python\" we introduced `lists` but did not get a chance to look at Python's `tuple` or `dict` object. These concepts are used in this lesson, indeed we have already seen a `tuple`, so we give a quick introduction.  We also look at list comprehension so that you will recoginise what it does when you see it."
   ]
  },
  {
   "cell_type": "markdown",
   "metadata": {},
   "source": [
    "## Information: Tuple\n",
    "\n",
    "In the previous episode introducing `numpy` we also used a new data structure the `tuple`, which we will explore a little further.  Let's create a new notebook, and import numpy: "
   ]
  },
  {
   "cell_type": "code",
   "execution_count": 1,
   "metadata": {},
   "outputs": [],
   "source": [
    "import numpy as np"
   ]
  },
  {
   "cell_type": "markdown",
   "metadata": {},
   "source": [
    "Now let's create an array as before a verify its shapeL"
   ]
  },
  {
   "cell_type": "code",
   "execution_count": 2,
   "metadata": {},
   "outputs": [
    {
     "name": "stdout",
     "output_type": "stream",
     "text": [
      "(2, 2)\n"
     ]
    }
   ],
   "source": [
    "np_array = np.zeros((2, 2))\n",
    "print(np_array.shape)"
   ]
  },
  {
   "cell_type": "markdown",
   "metadata": {},
   "source": [
    "When we create a `numpy` array using `zeros`, `eye` or similar functions, and then ask the shape of an array the data structure used is a `tuple`.  This is like a `list`, but is immutable, that is it cannot be changed (you may recall that strings are also immutable).  We indicate that a structure is a `tuple` by using parentheses rather than the square brackets used for `lists`.  Otherwise a `tuple` is much like a `list`:"
   ]
  },
  {
   "cell_type": "code",
   "execution_count": 3,
   "metadata": {},
   "outputs": [
    {
     "name": "stdout",
     "output_type": "stream",
     "text": [
      "[0, 1, 2, 3]\n",
      "(0, 1, 2, 3)\n",
      "[2, 3]\n",
      "(2, 3)\n"
     ]
    }
   ],
   "source": [
    "my_list = [0, 1, 2, 3]\n",
    "my_tuple = (0 ,1, 2, 3)\n",
    "print(my_list)\n",
    "print(my_tuple)\n",
    "print(my_list[2:])\n",
    "print(my_tuple[2:])"
   ]
  },
  {
   "cell_type": "markdown",
   "metadata": {},
   "source": [
    "We can check its mutability or lack of by trying to change one of the items in the `tuple`:"
   ]
  },
  {
   "cell_type": "code",
   "execution_count": 4,
   "metadata": {},
   "outputs": [
    {
     "ename": "TypeError",
     "evalue": "'tuple' object does not support item assignment",
     "output_type": "error",
     "traceback": [
      "\u001b[0;31m---------------------------------------------------------------------------\u001b[0m",
      "\u001b[0;31mTypeError\u001b[0m                                 Traceback (most recent call last)",
      "\u001b[0;32m<ipython-input-4-0e979b4d83ca>\u001b[0m in \u001b[0;36m<module>\u001b[0;34m\u001b[0m\n\u001b[0;32m----> 1\u001b[0;31m \u001b[0mmy_tuple\u001b[0m\u001b[0;34m[\u001b[0m\u001b[0;36m3\u001b[0m\u001b[0;34m]\u001b[0m\u001b[0;34m=\u001b[0m\u001b[0;36m4\u001b[0m\u001b[0;34m\u001b[0m\u001b[0m\n\u001b[0m",
      "\u001b[0;31mTypeError\u001b[0m: 'tuple' object does not support item assignment"
     ]
    }
   ],
   "source": [
    "my_tuple[3]=4"
   ]
  },
  {
   "cell_type": "markdown",
   "metadata": {},
   "source": [
    "## Information: Dictionaries\n",
    "\n",
    "* Python dicts are like Python lists, they can store anything!\n",
    "* Python dicts are different to Python lists in the way they are indexed. Lists are indexed with whole numbers, whereas dicts are indexed with some key, which can be anything. In many cases the key is a string.\n",
    "* An empty dict is created with `my_dict = dict()` or `my_dict = {}`.\n",
    "* We can explicitly construct a dict with `my_dict = {'a' : 1, 'b' : 't', 'c' : False}`.\n",
    "* We can access a value in a dict by using it's key `my_dict['b']`.\n",
    "* We can also easily add or change values in a dictionary: `my_dict['title'] = 'My personal dictionary'\n",
    "\n",
    "Try this out for yourself."
   ]
  },
  {
   "cell_type": "markdown",
   "metadata": {},
   "source": [
    "## List Enumeration\n",
    "\n",
    "So far we have looped through lists using the following structure:\n",
    "\n",
    "```python\n",
    "my_list = ['Drew', 'Jack', 'James', 'Will']\n",
    "for name in my_list:\n",
    "    print(name)\n",
    "```\n",
    "\n",
    "we have also seen how we can loop over the `list` using `range`:\n",
    "\n",
    "```python\n",
    "for index in range( len(my_list) ):\n",
    "    print(index, my_list[index])\n",
    "```\n",
    "This is a little difficult to read so Python provides the `enumerate` function to provide a more compact and readable way of doing this:\n",
    "\n",
    "```python\n",
    "for index, value in enumerate(my_list):\n",
    "    print(index, value)\n",
    "```\n",
    "\n",
    "Again try this out for yourself.  This is esepcially useful when we have two lists of related data and we want to compare or change values in one based on the other.  For dictionaries you can use `for key, value in my_dict.items()` to acehive the same."
   ]
  },
  {
   "cell_type": "markdown",
   "metadata": {},
   "source": [
    "## List comprehensions\n",
    "List comprehensions are a convenient way of constructing simple lists in one line. For instance:\n",
    "```python\n",
    "my_list = [x**2 for x in range(10)]\n",
    "```\n",
    "constructs the list\n",
    "```python\n",
    "[0, 1, 4, 9, 16, 25, 36, 49, 64, 81]\n",
    "```\n",
    "using a list comprehension. This is equivalent to the list constructed by the following code:\n",
    "```python\n",
    "my_list = []\n",
    "for x in range(10):\n",
    "    my_list.append(x**2)\n",
    "```\n",
    "\n",
    "We can also add conditions to list comprehensions, for instance\n",
    "```python\n",
    "my_list = [x**2 for x in range(10) if (x**2 )<50]\n",
    "```\n",
    "generates a list of $x^2 $ for $x$ in the range 0 to 9, but only keeps the results less than 50. If you are familiar with the way that sets are represented in mathematics, this way of constructing lists may look familiar. The above code is equivalent to:\n",
    "```python\n",
    "my_list = []\n",
    "for x in range(10):\n",
    "    if (x**2) < 50:\n",
    "        my_list.append(x**2)\n",
    "```\n",
    "but is more compact, but can be less readable."
   ]
  },
  {
   "cell_type": "markdown",
   "metadata": {},
   "source": [
    "## Key Points:\n",
    "* Tuples are likke lists but immutable and declared with `(`, `)`.\n",
    "* Dictionaries are like lists but use a `key` to reference items rather than an `index`.\n",
    "* Enumerate provides a compact way of iterating index and value in lists.\n",
    "* List comprehension is just a compact way of constructing a list."
   ]
  }
 ],
 "metadata": {
  "kernelspec": {
   "display_name": "Python 3",
   "language": "python",
   "name": "python3"
  },
  "language_info": {
   "codemirror_mode": {
    "name": "ipython",
    "version": 3
   },
   "file_extension": ".py",
   "mimetype": "text/x-python",
   "name": "python",
   "nbconvert_exporter": "python",
   "pygments_lexer": "ipython3",
   "version": "3.8.3"
  }
 },
 "nbformat": 4,
 "nbformat_minor": 2
}
